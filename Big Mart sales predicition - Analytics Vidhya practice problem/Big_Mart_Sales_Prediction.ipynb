{
  "nbformat": 4,
  "nbformat_minor": 0,
  "metadata": {
    "colab": {
      "name": "Big-Mart-Sales-Prediction.ipynb",
      "provenance": []
    },
    "kernelspec": {
      "name": "python3",
      "display_name": "Python 3"
    },
    "language_info": {
      "name": "python"
    },
    "accelerator": "GPU"
  },
  "cells": [
    {
      "cell_type": "markdown",
      "metadata": {
        "id": "XDzFM4kmCLm_"
      },
      "source": [
        "\n",
        "\n",
        "# 🛒 Sales Prediction for Big Mart Outlets \n",
        "\n",
        "\n",
        " \n",
        "\n",
        "\n",
        "\n"
      ]
    },
    {
      "cell_type": "markdown",
      "metadata": {
        "id": "0fBsgU-3CoNm"
      },
      "source": [
        "### 1. Problem Statement\n",
        "\n",
        "The data scientists at BigMart have collected 2013 sales data for 1559 products across 10 stores in different cities. Also, certain attributes of each product and store have been defined. The aim is to build a predictive model and predict the sales of each product at a particular outlet.\n",
        "\n",
        "Using this model, BigMart will try to understand the properties of products and outlets which play a key role in increasing sales."
      ]
    },
    {
      "cell_type": "markdown",
      "metadata": {
        "id": "lSWmE8F3CzpG"
      },
      "source": [
        "### 2. Data\n",
        "\n",
        "Data is taken from Anlytics problem practice -  `Big Mart Sales Prediction` \n",
        "\n",
        "[Dataset](https://datahack.analyticsvidhya.com/contest/practice-problem-big-mart-sales-iii/#ProblemStatement)"
      ]
    },
    {
      "cell_type": "markdown",
      "metadata": {
        "id": "6hKFursCDzOO"
      },
      "source": [
        "### 3. Evaluation\n",
        "\n",
        "**Root Mean Square Error** value is used to evaluate our model."
      ]
    },
    {
      "cell_type": "markdown",
      "metadata": {
        "id": "nPjLAtI2EJyu"
      },
      "source": [
        "### 4. Features\n",
        "\n",
        "##### Data Dictionary:\n",
        "\n",
        "We have train (8523) and test (5681) data set, train data set has both input and output variable(s). You need to predict the sales for test data set.\n",
        "\n",
        "\n",
        "---\n",
        "\n",
        "\n",
        "\n",
        "\n",
        "Train file: CSV containing the item outlet information with sales value\n",
        "\n",
        "\n",
        "\n",
        " - Item_Identifier - Unique product ID\n",
        " - Item_Weight - \tWeight of product\n",
        " - Item_Fat_Content\t - Whether the product is low fat or not\n",
        " - Item_Visibility\t- The % of total display area of all products in a store allocated to the particular product\n",
        " - Item_Type\t- The category to which the product belongs\n",
        " - Item_MRP\t- Maximum Retail Price (list price) of the product\n",
        " - Outlet_Identifier\t- Unique store ID\n",
        " - Outlet_Establishment_Year\t- The year in which store was established\n",
        " - Outlet_Size\t- The size of the store in terms of ground area covered\n",
        " - Outlet_Location_Type\t- The type of city in which the store is located\n",
        " - Outlet_Type\t- Whether the outlet is just a grocery store or some sort of supermarket\n",
        " - Item_Outlet_Sales\t- Sales of the product in the particular store. This is the outcome variable to be predicted.\n",
        " \n",
        "\n",
        "---\n",
        "\n",
        "\n",
        "\n",
        "Test file: CSV containing item outlet combinations for which sales need to be forecasted\n",
        "\n",
        "\n",
        " - Item_Identifier\t- Unique product ID\n",
        " - Item_Weight\t- Weight of product\n",
        " - Item_Fat_Content\t- Whether the product is low fat or not\n",
        " - Item_Visibility\t- The % of total display area of all products in a store allocated to the particular product\n",
        " - Item_Type\t- The category to which the product belongs\n",
        " - Item_MRP\t- Maximum Retail Price (list price) of the product\n",
        " - Outlet_Identifier\t- Unique store ID\n",
        " - Outlet_Establishment_Year\t- The year in which store was established\n",
        " - Outlet_Size\t- The size of the store in terms of ground area covered\n",
        " - Outlet_Location_Type\t- The type of city in which the store is located\n",
        " - Outlet_Type\t- Whether the outlet is just a grocery store or some sort of supermarket\n",
        "\n",
        "\n"
      ]
    },
    {
      "cell_type": "markdown",
      "metadata": {
        "id": "C-NLWmMIFaB_"
      },
      "source": [
        "### Getting Data Ready"
      ]
    },
    {
      "cell_type": "code",
      "metadata": {
        "id": "QiF4vD1FFgBl"
      },
      "source": [
        "import numpy as np\n",
        "import matplotlib.pyplot as plt\n",
        "import pandas as pd\n"
      ],
      "execution_count": 1,
      "outputs": []
    },
    {
      "cell_type": "code",
      "metadata": {
        "colab": {
          "base_uri": "https://localhost:8080/",
          "height": 208
        },
        "id": "xl7-qru9F7XX",
        "outputId": "c6fe48c4-b3fd-4e34-b2bd-b63ee8a33e6b"
      },
      "source": [
        "#importing our train data\n",
        "data = pd.read_csv('/content/drive/MyDrive/walmart data/train_v9rqX0R.csv')\n",
        "data.head()"
      ],
      "execution_count": 2,
      "outputs": [
        {
          "output_type": "execute_result",
          "data": {
            "text/html": [
              "<div>\n",
              "<style scoped>\n",
              "    .dataframe tbody tr th:only-of-type {\n",
              "        vertical-align: middle;\n",
              "    }\n",
              "\n",
              "    .dataframe tbody tr th {\n",
              "        vertical-align: top;\n",
              "    }\n",
              "\n",
              "    .dataframe thead th {\n",
              "        text-align: right;\n",
              "    }\n",
              "</style>\n",
              "<table border=\"1\" class=\"dataframe\">\n",
              "  <thead>\n",
              "    <tr style=\"text-align: right;\">\n",
              "      <th></th>\n",
              "      <th>Item_Identifier</th>\n",
              "      <th>Item_Weight</th>\n",
              "      <th>Item_Fat_Content</th>\n",
              "      <th>Item_Visibility</th>\n",
              "      <th>Item_Type</th>\n",
              "      <th>Item_MRP</th>\n",
              "      <th>Outlet_Identifier</th>\n",
              "      <th>Outlet_Establishment_Year</th>\n",
              "      <th>Outlet_Size</th>\n",
              "      <th>Outlet_Location_Type</th>\n",
              "      <th>Outlet_Type</th>\n",
              "      <th>Item_Outlet_Sales</th>\n",
              "    </tr>\n",
              "  </thead>\n",
              "  <tbody>\n",
              "    <tr>\n",
              "      <th>0</th>\n",
              "      <td>FDA15</td>\n",
              "      <td>9.30</td>\n",
              "      <td>Low Fat</td>\n",
              "      <td>0.016047</td>\n",
              "      <td>Dairy</td>\n",
              "      <td>249.8092</td>\n",
              "      <td>OUT049</td>\n",
              "      <td>1999</td>\n",
              "      <td>Medium</td>\n",
              "      <td>Tier 1</td>\n",
              "      <td>Supermarket Type1</td>\n",
              "      <td>3735.1380</td>\n",
              "    </tr>\n",
              "    <tr>\n",
              "      <th>1</th>\n",
              "      <td>DRC01</td>\n",
              "      <td>5.92</td>\n",
              "      <td>Regular</td>\n",
              "      <td>0.019278</td>\n",
              "      <td>Soft Drinks</td>\n",
              "      <td>48.2692</td>\n",
              "      <td>OUT018</td>\n",
              "      <td>2009</td>\n",
              "      <td>Medium</td>\n",
              "      <td>Tier 3</td>\n",
              "      <td>Supermarket Type2</td>\n",
              "      <td>443.4228</td>\n",
              "    </tr>\n",
              "    <tr>\n",
              "      <th>2</th>\n",
              "      <td>FDN15</td>\n",
              "      <td>17.50</td>\n",
              "      <td>Low Fat</td>\n",
              "      <td>0.016760</td>\n",
              "      <td>Meat</td>\n",
              "      <td>141.6180</td>\n",
              "      <td>OUT049</td>\n",
              "      <td>1999</td>\n",
              "      <td>Medium</td>\n",
              "      <td>Tier 1</td>\n",
              "      <td>Supermarket Type1</td>\n",
              "      <td>2097.2700</td>\n",
              "    </tr>\n",
              "    <tr>\n",
              "      <th>3</th>\n",
              "      <td>FDX07</td>\n",
              "      <td>19.20</td>\n",
              "      <td>Regular</td>\n",
              "      <td>0.000000</td>\n",
              "      <td>Fruits and Vegetables</td>\n",
              "      <td>182.0950</td>\n",
              "      <td>OUT010</td>\n",
              "      <td>1998</td>\n",
              "      <td>NaN</td>\n",
              "      <td>Tier 3</td>\n",
              "      <td>Grocery Store</td>\n",
              "      <td>732.3800</td>\n",
              "    </tr>\n",
              "    <tr>\n",
              "      <th>4</th>\n",
              "      <td>NCD19</td>\n",
              "      <td>8.93</td>\n",
              "      <td>Low Fat</td>\n",
              "      <td>0.000000</td>\n",
              "      <td>Household</td>\n",
              "      <td>53.8614</td>\n",
              "      <td>OUT013</td>\n",
              "      <td>1987</td>\n",
              "      <td>High</td>\n",
              "      <td>Tier 3</td>\n",
              "      <td>Supermarket Type1</td>\n",
              "      <td>994.7052</td>\n",
              "    </tr>\n",
              "  </tbody>\n",
              "</table>\n",
              "</div>"
            ],
            "text/plain": [
              "  Item_Identifier  Item_Weight  ...        Outlet_Type  Item_Outlet_Sales\n",
              "0           FDA15         9.30  ...  Supermarket Type1          3735.1380\n",
              "1           DRC01         5.92  ...  Supermarket Type2           443.4228\n",
              "2           FDN15        17.50  ...  Supermarket Type1          2097.2700\n",
              "3           FDX07        19.20  ...      Grocery Store           732.3800\n",
              "4           NCD19         8.93  ...  Supermarket Type1           994.7052\n",
              "\n",
              "[5 rows x 12 columns]"
            ]
          },
          "metadata": {
            "tags": []
          },
          "execution_count": 2
        }
      ]
    },
    {
      "cell_type": "code",
      "metadata": {
        "colab": {
          "base_uri": "https://localhost:8080/"
        },
        "id": "hmuSVNZkGfd-",
        "outputId": "1c045b8a-6a7a-41fd-958e-e34eb3985b21"
      },
      "source": [
        "#let's check for missing values and datatypes\n",
        "data.isnull().sum()"
      ],
      "execution_count": 3,
      "outputs": [
        {
          "output_type": "execute_result",
          "data": {
            "text/plain": [
              "Item_Identifier                 0\n",
              "Item_Weight                  1463\n",
              "Item_Fat_Content                0\n",
              "Item_Visibility                 0\n",
              "Item_Type                       0\n",
              "Item_MRP                        0\n",
              "Outlet_Identifier               0\n",
              "Outlet_Establishment_Year       0\n",
              "Outlet_Size                  2410\n",
              "Outlet_Location_Type            0\n",
              "Outlet_Type                     0\n",
              "Item_Outlet_Sales               0\n",
              "dtype: int64"
            ]
          },
          "metadata": {
            "tags": []
          },
          "execution_count": 3
        }
      ]
    },
    {
      "cell_type": "code",
      "metadata": {
        "colab": {
          "base_uri": "https://localhost:8080/"
        },
        "id": "tNUoYjzQGz3N",
        "outputId": "9f4d3191-2ce6-4151-e8d1-658c729c4afa"
      },
      "source": [
        "data.info()"
      ],
      "execution_count": 4,
      "outputs": [
        {
          "output_type": "stream",
          "text": [
            "<class 'pandas.core.frame.DataFrame'>\n",
            "RangeIndex: 8523 entries, 0 to 8522\n",
            "Data columns (total 12 columns):\n",
            " #   Column                     Non-Null Count  Dtype  \n",
            "---  ------                     --------------  -----  \n",
            " 0   Item_Identifier            8523 non-null   object \n",
            " 1   Item_Weight                7060 non-null   float64\n",
            " 2   Item_Fat_Content           8523 non-null   object \n",
            " 3   Item_Visibility            8523 non-null   float64\n",
            " 4   Item_Type                  8523 non-null   object \n",
            " 5   Item_MRP                   8523 non-null   float64\n",
            " 6   Outlet_Identifier          8523 non-null   object \n",
            " 7   Outlet_Establishment_Year  8523 non-null   int64  \n",
            " 8   Outlet_Size                6113 non-null   object \n",
            " 9   Outlet_Location_Type       8523 non-null   object \n",
            " 10  Outlet_Type                8523 non-null   object \n",
            " 11  Item_Outlet_Sales          8523 non-null   float64\n",
            "dtypes: float64(4), int64(1), object(7)\n",
            "memory usage: 799.2+ KB\n"
          ],
          "name": "stdout"
        }
      ]
    },
    {
      "cell_type": "code",
      "metadata": {
        "colab": {
          "base_uri": "https://localhost:8080/"
        },
        "id": "oYt0svAFG6c1",
        "outputId": "2473ec3f-7e60-4b18-ced9-701df4620efc"
      },
      "source": [
        "len(data)"
      ],
      "execution_count": 5,
      "outputs": [
        {
          "output_type": "execute_result",
          "data": {
            "text/plain": [
              "8523"
            ]
          },
          "metadata": {
            "tags": []
          },
          "execution_count": 5
        }
      ]
    },
    {
      "cell_type": "markdown",
      "metadata": {
        "id": "lWaJm00SHKkX"
      },
      "source": [
        "Let's convert our object/string datatypes into categorical features and filling missing values."
      ]
    },
    {
      "cell_type": "code",
      "metadata": {
        "id": "NbkO8hMWHWdd"
      },
      "source": [
        "#converting object dtype into categorical features\n",
        "\n",
        "for label,content in data.items():\n",
        "  if pd.api.types.is_string_dtype(content):\n",
        "    data[label] = content.astype('category').cat.as_ordered()\n"
      ],
      "execution_count": 6,
      "outputs": []
    },
    {
      "cell_type": "code",
      "metadata": {
        "colab": {
          "base_uri": "https://localhost:8080/"
        },
        "id": "3O8fs4-rILaN",
        "outputId": "8606ab0e-718d-456b-cae2-5739b2e5503d"
      },
      "source": [
        "#checking category codes\n",
        "\n",
        "data.Outlet_Type.cat.codes               "
      ],
      "execution_count": 7,
      "outputs": [
        {
          "output_type": "execute_result",
          "data": {
            "text/plain": [
              "0       1\n",
              "1       2\n",
              "2       1\n",
              "3       0\n",
              "4       1\n",
              "       ..\n",
              "8518    1\n",
              "8519    1\n",
              "8520    1\n",
              "8521    2\n",
              "8522    1\n",
              "Length: 8523, dtype: int8"
            ]
          },
          "metadata": {
            "tags": []
          },
          "execution_count": 7
        }
      ]
    },
    {
      "cell_type": "code",
      "metadata": {
        "colab": {
          "base_uri": "https://localhost:8080/"
        },
        "id": "onb09tiRISMk",
        "outputId": "f104fb6c-3eef-4976-9634-49751f35c81d"
      },
      "source": [
        "data.dtypes"
      ],
      "execution_count": 8,
      "outputs": [
        {
          "output_type": "execute_result",
          "data": {
            "text/plain": [
              "Item_Identifier              category\n",
              "Item_Weight                   float64\n",
              "Item_Fat_Content             category\n",
              "Item_Visibility               float64\n",
              "Item_Type                    category\n",
              "Item_MRP                      float64\n",
              "Outlet_Identifier            category\n",
              "Outlet_Establishment_Year       int64\n",
              "Outlet_Size                  category\n",
              "Outlet_Location_Type         category\n",
              "Outlet_Type                  category\n",
              "Item_Outlet_Sales             float64\n",
              "dtype: object"
            ]
          },
          "metadata": {
            "tags": []
          },
          "execution_count": 8
        }
      ]
    },
    {
      "cell_type": "markdown",
      "metadata": {
        "id": "h0nEBsLsI2hu"
      },
      "source": [
        "After converting data type into category, let's fill all missing values"
      ]
    },
    {
      "cell_type": "code",
      "metadata": {
        "id": "5O4xzy9iI7dM"
      },
      "source": [
        "#filling missing numeric values\n",
        "\n",
        "for label,content in data.items():\n",
        "  if pd.api.types.is_numeric_dtype(content):\n",
        "    if pd.isnull(content).sum():\n",
        "      data[label] = content.fillna(content.median())"
      ],
      "execution_count": 9,
      "outputs": []
    },
    {
      "cell_type": "code",
      "metadata": {
        "colab": {
          "base_uri": "https://localhost:8080/"
        },
        "id": "p3tJHJXFLYq9",
        "outputId": "13615cdd-5ccf-41d8-ee4f-c37751677694"
      },
      "source": [
        "data.isnull().sum()"
      ],
      "execution_count": 10,
      "outputs": [
        {
          "output_type": "execute_result",
          "data": {
            "text/plain": [
              "Item_Identifier                 0\n",
              "Item_Weight                     0\n",
              "Item_Fat_Content                0\n",
              "Item_Visibility                 0\n",
              "Item_Type                       0\n",
              "Item_MRP                        0\n",
              "Outlet_Identifier               0\n",
              "Outlet_Establishment_Year       0\n",
              "Outlet_Size                  2410\n",
              "Outlet_Location_Type            0\n",
              "Outlet_Type                     0\n",
              "Item_Outlet_Sales               0\n",
              "dtype: int64"
            ]
          },
          "metadata": {
            "tags": []
          },
          "execution_count": 10
        }
      ]
    },
    {
      "cell_type": "code",
      "metadata": {
        "id": "rbyyH555Ln87"
      },
      "source": [
        "# now let's filling missing category values\n",
        "\n",
        "for label,content in data.items():\n",
        "  if not pd.api.types.is_numeric_dtype(content):\n",
        "    data[label] = pd.Categorical(content).codes+1"
      ],
      "execution_count": 11,
      "outputs": []
    },
    {
      "cell_type": "code",
      "metadata": {
        "colab": {
          "base_uri": "https://localhost:8080/"
        },
        "id": "QUDRjz-bMF_8",
        "outputId": "3f4c58fc-2aa0-41c2-c501-173b9d2d9b48"
      },
      "source": [
        "data.isnull().sum()"
      ],
      "execution_count": 12,
      "outputs": [
        {
          "output_type": "execute_result",
          "data": {
            "text/plain": [
              "Item_Identifier              0\n",
              "Item_Weight                  0\n",
              "Item_Fat_Content             0\n",
              "Item_Visibility              0\n",
              "Item_Type                    0\n",
              "Item_MRP                     0\n",
              "Outlet_Identifier            0\n",
              "Outlet_Establishment_Year    0\n",
              "Outlet_Size                  0\n",
              "Outlet_Location_Type         0\n",
              "Outlet_Type                  0\n",
              "Item_Outlet_Sales            0\n",
              "dtype: int64"
            ]
          },
          "metadata": {
            "tags": []
          },
          "execution_count": 12
        }
      ]
    },
    {
      "cell_type": "code",
      "metadata": {
        "colab": {
          "base_uri": "https://localhost:8080/"
        },
        "id": "zZyIehbiMJDM",
        "outputId": "a2ec2dcc-207d-4fd6-f018-03a36db490f7"
      },
      "source": [
        "data.info()"
      ],
      "execution_count": 13,
      "outputs": [
        {
          "output_type": "stream",
          "text": [
            "<class 'pandas.core.frame.DataFrame'>\n",
            "RangeIndex: 8523 entries, 0 to 8522\n",
            "Data columns (total 12 columns):\n",
            " #   Column                     Non-Null Count  Dtype  \n",
            "---  ------                     --------------  -----  \n",
            " 0   Item_Identifier            8523 non-null   int16  \n",
            " 1   Item_Weight                8523 non-null   float64\n",
            " 2   Item_Fat_Content           8523 non-null   int8   \n",
            " 3   Item_Visibility            8523 non-null   float64\n",
            " 4   Item_Type                  8523 non-null   int8   \n",
            " 5   Item_MRP                   8523 non-null   float64\n",
            " 6   Outlet_Identifier          8523 non-null   int8   \n",
            " 7   Outlet_Establishment_Year  8523 non-null   int64  \n",
            " 8   Outlet_Size                8523 non-null   int8   \n",
            " 9   Outlet_Location_Type       8523 non-null   int8   \n",
            " 10  Outlet_Type                8523 non-null   int8   \n",
            " 11  Item_Outlet_Sales          8523 non-null   float64\n",
            "dtypes: float64(4), int16(1), int64(1), int8(6)\n",
            "memory usage: 399.6 KB\n"
          ],
          "name": "stdout"
        }
      ]
    },
    {
      "cell_type": "code",
      "metadata": {
        "colab": {
          "base_uri": "https://localhost:8080/",
          "height": 208
        },
        "id": "zeAG6eM3MXoU",
        "outputId": "8b289545-a8fc-456d-bf37-4ad6b8044392"
      },
      "source": [
        "data.head()"
      ],
      "execution_count": 14,
      "outputs": [
        {
          "output_type": "execute_result",
          "data": {
            "text/html": [
              "<div>\n",
              "<style scoped>\n",
              "    .dataframe tbody tr th:only-of-type {\n",
              "        vertical-align: middle;\n",
              "    }\n",
              "\n",
              "    .dataframe tbody tr th {\n",
              "        vertical-align: top;\n",
              "    }\n",
              "\n",
              "    .dataframe thead th {\n",
              "        text-align: right;\n",
              "    }\n",
              "</style>\n",
              "<table border=\"1\" class=\"dataframe\">\n",
              "  <thead>\n",
              "    <tr style=\"text-align: right;\">\n",
              "      <th></th>\n",
              "      <th>Item_Identifier</th>\n",
              "      <th>Item_Weight</th>\n",
              "      <th>Item_Fat_Content</th>\n",
              "      <th>Item_Visibility</th>\n",
              "      <th>Item_Type</th>\n",
              "      <th>Item_MRP</th>\n",
              "      <th>Outlet_Identifier</th>\n",
              "      <th>Outlet_Establishment_Year</th>\n",
              "      <th>Outlet_Size</th>\n",
              "      <th>Outlet_Location_Type</th>\n",
              "      <th>Outlet_Type</th>\n",
              "      <th>Item_Outlet_Sales</th>\n",
              "    </tr>\n",
              "  </thead>\n",
              "  <tbody>\n",
              "    <tr>\n",
              "      <th>0</th>\n",
              "      <td>157</td>\n",
              "      <td>9.30</td>\n",
              "      <td>2</td>\n",
              "      <td>0.016047</td>\n",
              "      <td>5</td>\n",
              "      <td>249.8092</td>\n",
              "      <td>10</td>\n",
              "      <td>1999</td>\n",
              "      <td>2</td>\n",
              "      <td>1</td>\n",
              "      <td>2</td>\n",
              "      <td>3735.1380</td>\n",
              "    </tr>\n",
              "    <tr>\n",
              "      <th>1</th>\n",
              "      <td>9</td>\n",
              "      <td>5.92</td>\n",
              "      <td>3</td>\n",
              "      <td>0.019278</td>\n",
              "      <td>15</td>\n",
              "      <td>48.2692</td>\n",
              "      <td>4</td>\n",
              "      <td>2009</td>\n",
              "      <td>2</td>\n",
              "      <td>3</td>\n",
              "      <td>3</td>\n",
              "      <td>443.4228</td>\n",
              "    </tr>\n",
              "    <tr>\n",
              "      <th>2</th>\n",
              "      <td>663</td>\n",
              "      <td>17.50</td>\n",
              "      <td>2</td>\n",
              "      <td>0.016760</td>\n",
              "      <td>11</td>\n",
              "      <td>141.6180</td>\n",
              "      <td>10</td>\n",
              "      <td>1999</td>\n",
              "      <td>2</td>\n",
              "      <td>1</td>\n",
              "      <td>2</td>\n",
              "      <td>2097.2700</td>\n",
              "    </tr>\n",
              "    <tr>\n",
              "      <th>3</th>\n",
              "      <td>1122</td>\n",
              "      <td>19.20</td>\n",
              "      <td>3</td>\n",
              "      <td>0.000000</td>\n",
              "      <td>7</td>\n",
              "      <td>182.0950</td>\n",
              "      <td>1</td>\n",
              "      <td>1998</td>\n",
              "      <td>0</td>\n",
              "      <td>3</td>\n",
              "      <td>1</td>\n",
              "      <td>732.3800</td>\n",
              "    </tr>\n",
              "    <tr>\n",
              "      <th>4</th>\n",
              "      <td>1298</td>\n",
              "      <td>8.93</td>\n",
              "      <td>2</td>\n",
              "      <td>0.000000</td>\n",
              "      <td>10</td>\n",
              "      <td>53.8614</td>\n",
              "      <td>2</td>\n",
              "      <td>1987</td>\n",
              "      <td>1</td>\n",
              "      <td>3</td>\n",
              "      <td>2</td>\n",
              "      <td>994.7052</td>\n",
              "    </tr>\n",
              "  </tbody>\n",
              "</table>\n",
              "</div>"
            ],
            "text/plain": [
              "   Item_Identifier  Item_Weight  ...  Outlet_Type  Item_Outlet_Sales\n",
              "0              157         9.30  ...            2          3735.1380\n",
              "1                9         5.92  ...            3           443.4228\n",
              "2              663        17.50  ...            2          2097.2700\n",
              "3             1122        19.20  ...            1           732.3800\n",
              "4             1298         8.93  ...            2           994.7052\n",
              "\n",
              "[5 rows x 12 columns]"
            ]
          },
          "metadata": {
            "tags": []
          },
          "execution_count": 14
        }
      ]
    },
    {
      "cell_type": "markdown",
      "metadata": {
        "id": "eDI6jjdhMd40"
      },
      "source": [
        "So our data is ready, Now let's go for modeling.\n"
      ]
    },
    {
      "cell_type": "markdown",
      "metadata": {
        "id": "VtZ8l1_rMoBs"
      },
      "source": [
        "### Modeling"
      ]
    },
    {
      "cell_type": "code",
      "metadata": {
        "id": "Jpv3oa-oMrFj"
      },
      "source": [
        "from sklearn.model_selection import train_test_split\n",
        "from sklearn.ensemble import AdaBoostRegressor, RandomForestRegressor\n",
        "from sklearn.linear_model import Ridge\n",
        "from sklearn.svm import SVR"
      ],
      "execution_count": 15,
      "outputs": []
    },
    {
      "cell_type": "code",
      "metadata": {
        "id": "LSXrUcxiNuKb"
      },
      "source": [
        "#let's split X and y\n",
        "np.random.seed(42)\n",
        "\n",
        "X = data.drop('Item_Outlet_Sales',axis=1)\n",
        "y = data['Item_Outlet_Sales']\n",
        "\n",
        "#let's split train and test split for test dataset\n",
        "\n",
        "X_train,X_test,y_train,y_test = train_test_split(X,y,test_size=0.2)"
      ],
      "execution_count": 16,
      "outputs": []
    },
    {
      "cell_type": "code",
      "metadata": {
        "colab": {
          "base_uri": "https://localhost:8080/"
        },
        "id": "mTqOyjFHOPMb",
        "outputId": "f3cb6727-bdd1-440a-ab7f-199b152275b6"
      },
      "source": [
        "len(X_train), len(X_test)"
      ],
      "execution_count": 17,
      "outputs": [
        {
          "output_type": "execute_result",
          "data": {
            "text/plain": [
              "(6818, 1705)"
            ]
          },
          "metadata": {
            "tags": []
          },
          "execution_count": 17
        }
      ]
    },
    {
      "cell_type": "code",
      "metadata": {
        "colab": {
          "base_uri": "https://localhost:8080/"
        },
        "id": "Vdq1Uz-DOavr",
        "outputId": "113e510d-f95c-4b25-8b31-7e1632ab693c"
      },
      "source": [
        "len(y_train), len(y_test)"
      ],
      "execution_count": 18,
      "outputs": [
        {
          "output_type": "execute_result",
          "data": {
            "text/plain": [
              "(6818, 1705)"
            ]
          },
          "metadata": {
            "tags": []
          },
          "execution_count": 18
        }
      ]
    },
    {
      "cell_type": "code",
      "metadata": {
        "id": "8UfNNoydOlmz"
      },
      "source": [
        "#let's build a function for fitting our various model\n",
        "\n",
        "models = {'RandomForestRegressor':RandomForestRegressor(),\n",
        "          'Adaboost': AdaBoostRegressor(),\n",
        "          'linear svr': SVR(kernel='linear'),\n",
        "          'rbf svr': SVR(kernel='rbf'),\n",
        "          'Ridge':Ridge()}\n",
        "\n",
        "def fit_and_score(models,X_train,y_train,X_test,y_test):\n",
        "  np.random.seed(42)\n",
        "  for names,model in models.items():\n",
        "    model.fit(X_train,y_train)\n",
        "    scores = model.score(X_test,y_test)\n",
        "    print(f'SCORES of {names}: {scores}')"
      ],
      "execution_count": 19,
      "outputs": []
    },
    {
      "cell_type": "code",
      "metadata": {
        "colab": {
          "base_uri": "https://localhost:8080/"
        },
        "id": "dzkoCxEmPyM8",
        "outputId": "ac5948c9-c764-49ee-ccdb-d7d1e35a035f"
      },
      "source": [
        "fit_and_score(models=models,\n",
        "              X_train = X_train,\n",
        "              y_train = y_train,\n",
        "              X_test = X_test,\n",
        "              y_test = y_test)"
      ],
      "execution_count": 20,
      "outputs": [
        {
          "output_type": "stream",
          "text": [
            "SCORES of RandomForestRegressor: 0.5639848517676748\n",
            "SCORES of Adaboost: 0.47850708493928074\n",
            "SCORES of linear svr: 0.4978306587175135\n",
            "SCORES of rbf svr: -0.02700175139158789\n",
            "SCORES of Ridge: 0.5270452796799339\n"
          ],
          "name": "stdout"
        }
      ]
    },
    {
      "cell_type": "code",
      "metadata": {
        "id": "JXmf8VMfQA1S"
      },
      "source": [
        "from sklearn.metrics import mean_squared_error\n",
        "\n",
        "def rmse(y_test,y_preds):\n",
        "  return np.sqrt(mean_squared_error(y_test,y_preds))\n",
        "\n",
        "def predict_rmse(model,X_test,y_test):\n",
        "  np.random.seed(42)\n",
        "  for names,model in models.items():\n",
        "    y_preds = model.predict(X_test)\n",
        "    rmse_score = rmse(y_test,y_preds)\n",
        "    print(f'RMSE score of {names}: {rmse_score}') "
      ],
      "execution_count": 21,
      "outputs": []
    },
    {
      "cell_type": "code",
      "metadata": {
        "colab": {
          "base_uri": "https://localhost:8080/"
        },
        "id": "61RPvMXCSszB",
        "outputId": "04dc4a70-6b18-4eb6-88d6-f3d5d4178da2"
      },
      "source": [
        "predict_rmse(model=models,X_test=X_test,y_test=y_test)"
      ],
      "execution_count": 22,
      "outputs": [
        {
          "output_type": "stream",
          "text": [
            "RMSE score of RandomForestRegressor: 1088.612016049296\n",
            "RMSE score of Adaboost: 1190.54698902972\n",
            "RMSE score of linear svr: 1168.281317995985\n",
            "RMSE score of rbf svr: 1670.7363701809106\n",
            "RMSE score of Ridge: 1133.7886807933053\n"
          ],
          "name": "stdout"
        }
      ]
    },
    {
      "cell_type": "markdown",
      "metadata": {
        "id": "NyehhIzQNnCY"
      },
      "source": [
        "### Hypertuning our model\n"
      ]
    },
    {
      "cell_type": "code",
      "metadata": {
        "id": "6prE_-7XNrgG"
      },
      "source": [
        "#let's hypertune our Random forest regressor and ridge model with randomized search CV and Grid searcg CV\n",
        "\n",
        "from sklearn.model_selection import RandomizedSearchCV,GridSearchCV\n",
        "\n",
        "# let's make hyper parameter grids\n",
        "\n",
        "rf_grids = {\n",
        " 'max_depth': [10,  30, 40, 60, 70, 100, None],\n",
        " 'max_features': ['auto', 'sqrt','log2',None],\n",
        " 'min_samples_leaf': [1, 2, 4],\n",
        " 'min_samples_split': [2, 5, 10],\n",
        " 'n_estimators': [100, 200, 300, 500, 700, 600, 1000]}\n",
        "\n",
        "ridge_grids = {'alpha':[200, 230, 250,265, 270, 275, 290, 300, 500]}\n"
      ],
      "execution_count": 55,
      "outputs": []
    },
    {
      "cell_type": "code",
      "metadata": {
        "colab": {
          "base_uri": "https://localhost:8080/"
        },
        "id": "rNAazakfPT8-",
        "outputId": "ead51ca2-f288-46f3-e17f-d5810590dc45"
      },
      "source": [
        "#let's try ridge regressor\n",
        "ridge_rs = RandomizedSearchCV(Ridge(),ridge_grids,cv=5,n_iter=30,verbose=True,random_state=42)\n",
        "ridge_rs.fit(X_train,y_train)"
      ],
      "execution_count": 24,
      "outputs": [
        {
          "output_type": "stream",
          "text": [
            "Fitting 5 folds for each of 9 candidates, totalling 45 fits\n"
          ],
          "name": "stdout"
        },
        {
          "output_type": "stream",
          "text": [
            "/usr/local/lib/python3.7/dist-packages/sklearn/model_selection/_search.py:281: UserWarning: The total space of parameters 9 is smaller than n_iter=30. Running 9 iterations. For exhaustive searches, use GridSearchCV.\n",
            "  % (grid_size, self.n_iter, grid_size), UserWarning)\n",
            "[Parallel(n_jobs=1)]: Using backend SequentialBackend with 1 concurrent workers.\n",
            "[Parallel(n_jobs=1)]: Done  45 out of  45 | elapsed:    0.3s finished\n"
          ],
          "name": "stderr"
        },
        {
          "output_type": "execute_result",
          "data": {
            "text/plain": [
              "RandomizedSearchCV(cv=5, error_score=nan,\n",
              "                   estimator=Ridge(alpha=1.0, copy_X=True, fit_intercept=True,\n",
              "                                   max_iter=None, normalize=False,\n",
              "                                   random_state=None, solver='auto',\n",
              "                                   tol=0.001),\n",
              "                   iid='deprecated', n_iter=30, n_jobs=None,\n",
              "                   param_distributions={'alpha': [200, 230, 250, 265, 270, 275,\n",
              "                                                  290, 300, 500]},\n",
              "                   pre_dispatch='2*n_jobs', random_state=42, refit=True,\n",
              "                   return_train_score=False, scoring=None, verbose=True)"
            ]
          },
          "metadata": {
            "tags": []
          },
          "execution_count": 24
        }
      ]
    },
    {
      "cell_type": "code",
      "metadata": {
        "colab": {
          "base_uri": "https://localhost:8080/"
        },
        "id": "FQIEXFFqPx4H",
        "outputId": "32aa3448-7bbe-4f34-ea94-c0c6ea31ae9a"
      },
      "source": [
        "ridge_rs.best_params_"
      ],
      "execution_count": 25,
      "outputs": [
        {
          "output_type": "execute_result",
          "data": {
            "text/plain": [
              "{'alpha': 200}"
            ]
          },
          "metadata": {
            "tags": []
          },
          "execution_count": 25
        }
      ]
    },
    {
      "cell_type": "code",
      "metadata": {
        "colab": {
          "base_uri": "https://localhost:8080/"
        },
        "id": "b_FossjpP2o2",
        "outputId": "294f8704-637c-438d-ded9-1685f5c15700"
      },
      "source": [
        "ridge_rs.score(X_test,y_test)"
      ],
      "execution_count": 26,
      "outputs": [
        {
          "output_type": "execute_result",
          "data": {
            "text/plain": [
              "0.5250712505550433"
            ]
          },
          "metadata": {
            "tags": []
          },
          "execution_count": 26
        }
      ]
    },
    {
      "cell_type": "code",
      "metadata": {
        "colab": {
          "base_uri": "https://localhost:8080/"
        },
        "id": "SRn-N0U2P6ue",
        "outputId": "28f1183e-012d-47f7-bc2a-e40d5d5fbfba"
      },
      "source": [
        "# let's try random forest regressor\n",
        "rf_rs = RandomizedSearchCV(RandomForestRegressor(n_jobs=-1),rf_grids,cv=5,n_iter=10,verbose=True,random_state=42)\n",
        "rf_rs.fit(X_train[:1000],y_train[:1000])"
      ],
      "execution_count": 56,
      "outputs": [
        {
          "output_type": "stream",
          "text": [
            "Fitting 5 folds for each of 10 candidates, totalling 50 fits\n"
          ],
          "name": "stdout"
        },
        {
          "output_type": "stream",
          "text": [
            "[Parallel(n_jobs=1)]: Using backend SequentialBackend with 1 concurrent workers.\n",
            "[Parallel(n_jobs=1)]: Done  50 out of  50 | elapsed:  1.1min finished\n"
          ],
          "name": "stderr"
        },
        {
          "output_type": "execute_result",
          "data": {
            "text/plain": [
              "RandomizedSearchCV(cv=5, error_score=nan,\n",
              "                   estimator=RandomForestRegressor(bootstrap=True,\n",
              "                                                   ccp_alpha=0.0,\n",
              "                                                   criterion='mse',\n",
              "                                                   max_depth=None,\n",
              "                                                   max_features='auto',\n",
              "                                                   max_leaf_nodes=None,\n",
              "                                                   max_samples=None,\n",
              "                                                   min_impurity_decrease=0.0,\n",
              "                                                   min_impurity_split=None,\n",
              "                                                   min_samples_leaf=1,\n",
              "                                                   min_samples_split=2,\n",
              "                                                   min_weight_fraction_leaf=0.0,\n",
              "                                                   n_estimators=100, n_jobs=-1,\n",
              "                                                   oob_score=False,...\n",
              "                                                   warm_start=False),\n",
              "                   iid='deprecated', n_iter=10, n_jobs=None,\n",
              "                   param_distributions={'max_depth': [10, 30, 40, 60, 70, 100,\n",
              "                                                      None],\n",
              "                                        'max_features': ['auto', 'sqrt', 'log2',\n",
              "                                                         None],\n",
              "                                        'min_samples_leaf': [1, 2, 4],\n",
              "                                        'min_samples_split': [2, 5, 10],\n",
              "                                        'n_estimators': [100, 200, 300, 500,\n",
              "                                                         700, 600, 1000]},\n",
              "                   pre_dispatch='2*n_jobs', random_state=42, refit=True,\n",
              "                   return_train_score=False, scoring=None, verbose=True)"
            ]
          },
          "metadata": {
            "tags": []
          },
          "execution_count": 56
        }
      ]
    },
    {
      "cell_type": "code",
      "metadata": {
        "colab": {
          "base_uri": "https://localhost:8080/"
        },
        "id": "0GsICEpmQSbX",
        "outputId": "7b6f9c39-cde1-4824-de7f-3ed8f383df64"
      },
      "source": [
        "rf_rs.best_params_"
      ],
      "execution_count": 57,
      "outputs": [
        {
          "output_type": "execute_result",
          "data": {
            "text/plain": [
              "{'max_depth': 60,\n",
              " 'max_features': 'sqrt',\n",
              " 'min_samples_leaf': 2,\n",
              " 'min_samples_split': 10,\n",
              " 'n_estimators': 1000}"
            ]
          },
          "metadata": {
            "tags": []
          },
          "execution_count": 57
        }
      ]
    },
    {
      "cell_type": "code",
      "metadata": {
        "colab": {
          "base_uri": "https://localhost:8080/"
        },
        "id": "IujbJDuyUB8V",
        "outputId": "7c50f31e-3f94-4436-c27c-f7418ce590a6"
      },
      "source": [
        "rf_rs.score(X_test[:1000],y_test[:1000])"
      ],
      "execution_count": 59,
      "outputs": [
        {
          "output_type": "execute_result",
          "data": {
            "text/plain": [
              "0.6094014199460727"
            ]
          },
          "metadata": {
            "tags": []
          },
          "execution_count": 59
        }
      ]
    },
    {
      "cell_type": "code",
      "metadata": {
        "id": "Ert9Ib_FUIM1"
      },
      "source": [
        "# Now let's try Grid Search CV only for Random Forest Regressor\n"
      ],
      "execution_count": 30,
      "outputs": []
    },
    {
      "cell_type": "code",
      "metadata": {
        "id": "ZphRypEsUlW1"
      },
      "source": [
        "gs_grids = {'max_depth': [40,60,70,80],\n",
        " 'max_features': ['sqrt'],\n",
        " 'min_samples_leaf':[ 2,4,6],\n",
        " 'min_samples_split': [10,20,30],\n",
        " 'n_estimators': [100,200,1000,500]}"
      ],
      "execution_count": 60,
      "outputs": []
    },
    {
      "cell_type": "code",
      "metadata": {
        "colab": {
          "base_uri": "https://localhost:8080/"
        },
        "id": "-SlwpkaFU8a1",
        "outputId": "80387e48-ffa1-4b47-e426-595be95e05c7"
      },
      "source": [
        "gs_rf = GridSearchCV(RandomForestRegressor(n_jobs=-1),gs_grids,cv=5,verbose=True)\n",
        "gs_rf.fit(X_test[:1000],y_test[:1000])"
      ],
      "execution_count": 61,
      "outputs": [
        {
          "output_type": "stream",
          "text": [
            "Fitting 5 folds for each of 144 candidates, totalling 720 fits\n"
          ],
          "name": "stdout"
        },
        {
          "output_type": "stream",
          "text": [
            "[Parallel(n_jobs=1)]: Using backend SequentialBackend with 1 concurrent workers.\n",
            "[Parallel(n_jobs=1)]: Done 720 out of 720 | elapsed: 10.2min finished\n"
          ],
          "name": "stderr"
        },
        {
          "output_type": "execute_result",
          "data": {
            "text/plain": [
              "GridSearchCV(cv=5, error_score=nan,\n",
              "             estimator=RandomForestRegressor(bootstrap=True, ccp_alpha=0.0,\n",
              "                                             criterion='mse', max_depth=None,\n",
              "                                             max_features='auto',\n",
              "                                             max_leaf_nodes=None,\n",
              "                                             max_samples=None,\n",
              "                                             min_impurity_decrease=0.0,\n",
              "                                             min_impurity_split=None,\n",
              "                                             min_samples_leaf=1,\n",
              "                                             min_samples_split=2,\n",
              "                                             min_weight_fraction_leaf=0.0,\n",
              "                                             n_estimators=100, n_jobs=-1,\n",
              "                                             oob_score=False, random_state=None,\n",
              "                                             verbose=0, warm_start=False),\n",
              "             iid='deprecated', n_jobs=None,\n",
              "             param_grid={'max_depth': [40, 60, 70, 80],\n",
              "                         'max_features': ['sqrt'],\n",
              "                         'min_samples_leaf': [2, 4, 6],\n",
              "                         'min_samples_split': [10, 20, 30],\n",
              "                         'n_estimators': [100, 200, 1000, 500]},\n",
              "             pre_dispatch='2*n_jobs', refit=True, return_train_score=False,\n",
              "             scoring=None, verbose=True)"
            ]
          },
          "metadata": {
            "tags": []
          },
          "execution_count": 61
        }
      ]
    },
    {
      "cell_type": "code",
      "metadata": {
        "colab": {
          "base_uri": "https://localhost:8080/"
        },
        "id": "MBzolN5_VOvD",
        "outputId": "41679cea-6f83-4721-e10f-357f08c08d9a"
      },
      "source": [
        "gs_rf.best_params_"
      ],
      "execution_count": 62,
      "outputs": [
        {
          "output_type": "execute_result",
          "data": {
            "text/plain": [
              "{'max_depth': 70,\n",
              " 'max_features': 'sqrt',\n",
              " 'min_samples_leaf': 4,\n",
              " 'min_samples_split': 10,\n",
              " 'n_estimators': 200}"
            ]
          },
          "metadata": {
            "tags": []
          },
          "execution_count": 62
        }
      ]
    },
    {
      "cell_type": "code",
      "metadata": {
        "colab": {
          "base_uri": "https://localhost:8080/"
        },
        "id": "JtkFtD0TVyLM",
        "outputId": "474c2d7e-9534-4656-f42e-47cbc2775c16"
      },
      "source": [
        "gs_rf.score(X_test[:1000],y_test[:1000])"
      ],
      "execution_count": 63,
      "outputs": [
        {
          "output_type": "execute_result",
          "data": {
            "text/plain": [
              "0.7704937115394606"
            ]
          },
          "metadata": {
            "tags": []
          },
          "execution_count": 63
        }
      ]
    },
    {
      "cell_type": "code",
      "metadata": {
        "colab": {
          "base_uri": "https://localhost:8080/"
        },
        "id": "guC8L6rMV2oM",
        "outputId": "b1275f3f-63a6-43b1-b29a-b81d9b3a789e"
      },
      "source": [
        "# That's pretty good score, we will now train our RandomForestRegressor model with best_params with all data\n",
        "ideal_model = RandomForestRegressor(max_depth=40,max_features = 'sqrt', min_samples_leaf = 4, min_samples_split =  10,n_estimators = 100)\n",
        "ideal_model.fit(X_train,y_train)\n",
        "ideal_model.score(X_test,y_test)"
      ],
      "execution_count": 35,
      "outputs": [
        {
          "output_type": "execute_result",
          "data": {
            "text/plain": [
              "0.6072932697792988"
            ]
          },
          "metadata": {
            "tags": []
          },
          "execution_count": 35
        }
      ]
    },
    {
      "cell_type": "markdown",
      "metadata": {
        "id": "sDLN-iSQXCZm"
      },
      "source": [
        "### Hypertuning Done\n",
        " \n",
        " So our baseline model gives score around `0.5639848517676748` but our hypertuned ideal model gives score `0.6079167212948553`. \n",
        " So now let's get `rmse`"
      ]
    },
    {
      "cell_type": "code",
      "metadata": {
        "id": "Xnw7VAl7Xbua"
      },
      "source": [
        "y_predictions = ideal_model.predict(X_test)\n",
        "\n",
        "ideal_rmse = rmse(y_test,y_predictions)"
      ],
      "execution_count": 36,
      "outputs": []
    },
    {
      "cell_type": "code",
      "metadata": {
        "colab": {
          "base_uri": "https://localhost:8080/"
        },
        "id": "_N8ybGA2XxMj",
        "outputId": "ffc25e08-8de6-451a-bbda-368afd84aeb6"
      },
      "source": [
        "ideal_rmse"
      ],
      "execution_count": 37,
      "outputs": [
        {
          "output_type": "execute_result",
          "data": {
            "text/plain": [
              "1033.1336494852903"
            ]
          },
          "metadata": {
            "tags": []
          },
          "execution_count": 37
        }
      ]
    },
    {
      "cell_type": "markdown",
      "metadata": {
        "id": "LbVSPQNnX541"
      },
      "source": [
        "That's pretty good RSME, so now we will just save our model and predicts on real test data"
      ]
    },
    {
      "cell_type": "markdown",
      "metadata": {
        "id": "R1Wa4UUbYJyV"
      },
      "source": [
        "### Saving Model"
      ]
    },
    {
      "cell_type": "code",
      "metadata": {
        "colab": {
          "base_uri": "https://localhost:8080/"
        },
        "id": "TVM0WGIVYLyb",
        "outputId": "5a687aae-ee63-49ab-d299-5bcc9255eb62"
      },
      "source": [
        "from joblib import dump,load\n",
        "dump(ideal_model,'ideal_model.joblib')\n"
      ],
      "execution_count": 38,
      "outputs": [
        {
          "output_type": "execute_result",
          "data": {
            "text/plain": [
              "['ideal_model.joblib']"
            ]
          },
          "metadata": {
            "tags": []
          },
          "execution_count": 38
        }
      ]
    },
    {
      "cell_type": "code",
      "metadata": {
        "colab": {
          "base_uri": "https://localhost:8080/"
        },
        "id": "07fcM0A7Yjqa",
        "outputId": "7acfaa56-9c15-4d9b-8400-10350f55ac2b"
      },
      "source": [
        "load('ideal_model.joblib')"
      ],
      "execution_count": 39,
      "outputs": [
        {
          "output_type": "execute_result",
          "data": {
            "text/plain": [
              "RandomForestRegressor(bootstrap=True, ccp_alpha=0.0, criterion='mse',\n",
              "                      max_depth=40, max_features='sqrt', max_leaf_nodes=None,\n",
              "                      max_samples=None, min_impurity_decrease=0.0,\n",
              "                      min_impurity_split=None, min_samples_leaf=4,\n",
              "                      min_samples_split=10, min_weight_fraction_leaf=0.0,\n",
              "                      n_estimators=100, n_jobs=None, oob_score=False,\n",
              "                      random_state=None, verbose=0, warm_start=False)"
            ]
          },
          "metadata": {
            "tags": []
          },
          "execution_count": 39
        }
      ]
    },
    {
      "cell_type": "markdown",
      "metadata": {
        "id": "tOPCWJNtYtfd"
      },
      "source": [
        "### Getting test data ready"
      ]
    },
    {
      "cell_type": "code",
      "metadata": {
        "colab": {
          "base_uri": "https://localhost:8080/",
          "height": 208
        },
        "id": "2DM8CMBwYxVL",
        "outputId": "b246fd9d-b6ee-414e-c4f8-a208fbb4a1b4"
      },
      "source": [
        "test_data = pd.read_csv('/content/drive/MyDrive/walmart data/test_AbJTz2l.csv')\n",
        "test_data.head()"
      ],
      "execution_count": 40,
      "outputs": [
        {
          "output_type": "execute_result",
          "data": {
            "text/html": [
              "<div>\n",
              "<style scoped>\n",
              "    .dataframe tbody tr th:only-of-type {\n",
              "        vertical-align: middle;\n",
              "    }\n",
              "\n",
              "    .dataframe tbody tr th {\n",
              "        vertical-align: top;\n",
              "    }\n",
              "\n",
              "    .dataframe thead th {\n",
              "        text-align: right;\n",
              "    }\n",
              "</style>\n",
              "<table border=\"1\" class=\"dataframe\">\n",
              "  <thead>\n",
              "    <tr style=\"text-align: right;\">\n",
              "      <th></th>\n",
              "      <th>Item_Identifier</th>\n",
              "      <th>Item_Weight</th>\n",
              "      <th>Item_Fat_Content</th>\n",
              "      <th>Item_Visibility</th>\n",
              "      <th>Item_Type</th>\n",
              "      <th>Item_MRP</th>\n",
              "      <th>Outlet_Identifier</th>\n",
              "      <th>Outlet_Establishment_Year</th>\n",
              "      <th>Outlet_Size</th>\n",
              "      <th>Outlet_Location_Type</th>\n",
              "      <th>Outlet_Type</th>\n",
              "    </tr>\n",
              "  </thead>\n",
              "  <tbody>\n",
              "    <tr>\n",
              "      <th>0</th>\n",
              "      <td>FDW58</td>\n",
              "      <td>20.750</td>\n",
              "      <td>Low Fat</td>\n",
              "      <td>0.007565</td>\n",
              "      <td>Snack Foods</td>\n",
              "      <td>107.8622</td>\n",
              "      <td>OUT049</td>\n",
              "      <td>1999</td>\n",
              "      <td>Medium</td>\n",
              "      <td>Tier 1</td>\n",
              "      <td>Supermarket Type1</td>\n",
              "    </tr>\n",
              "    <tr>\n",
              "      <th>1</th>\n",
              "      <td>FDW14</td>\n",
              "      <td>8.300</td>\n",
              "      <td>reg</td>\n",
              "      <td>0.038428</td>\n",
              "      <td>Dairy</td>\n",
              "      <td>87.3198</td>\n",
              "      <td>OUT017</td>\n",
              "      <td>2007</td>\n",
              "      <td>NaN</td>\n",
              "      <td>Tier 2</td>\n",
              "      <td>Supermarket Type1</td>\n",
              "    </tr>\n",
              "    <tr>\n",
              "      <th>2</th>\n",
              "      <td>NCN55</td>\n",
              "      <td>14.600</td>\n",
              "      <td>Low Fat</td>\n",
              "      <td>0.099575</td>\n",
              "      <td>Others</td>\n",
              "      <td>241.7538</td>\n",
              "      <td>OUT010</td>\n",
              "      <td>1998</td>\n",
              "      <td>NaN</td>\n",
              "      <td>Tier 3</td>\n",
              "      <td>Grocery Store</td>\n",
              "    </tr>\n",
              "    <tr>\n",
              "      <th>3</th>\n",
              "      <td>FDQ58</td>\n",
              "      <td>7.315</td>\n",
              "      <td>Low Fat</td>\n",
              "      <td>0.015388</td>\n",
              "      <td>Snack Foods</td>\n",
              "      <td>155.0340</td>\n",
              "      <td>OUT017</td>\n",
              "      <td>2007</td>\n",
              "      <td>NaN</td>\n",
              "      <td>Tier 2</td>\n",
              "      <td>Supermarket Type1</td>\n",
              "    </tr>\n",
              "    <tr>\n",
              "      <th>4</th>\n",
              "      <td>FDY38</td>\n",
              "      <td>NaN</td>\n",
              "      <td>Regular</td>\n",
              "      <td>0.118599</td>\n",
              "      <td>Dairy</td>\n",
              "      <td>234.2300</td>\n",
              "      <td>OUT027</td>\n",
              "      <td>1985</td>\n",
              "      <td>Medium</td>\n",
              "      <td>Tier 3</td>\n",
              "      <td>Supermarket Type3</td>\n",
              "    </tr>\n",
              "  </tbody>\n",
              "</table>\n",
              "</div>"
            ],
            "text/plain": [
              "  Item_Identifier  Item_Weight  ... Outlet_Location_Type        Outlet_Type\n",
              "0           FDW58       20.750  ...               Tier 1  Supermarket Type1\n",
              "1           FDW14        8.300  ...               Tier 2  Supermarket Type1\n",
              "2           NCN55       14.600  ...               Tier 3      Grocery Store\n",
              "3           FDQ58        7.315  ...               Tier 2  Supermarket Type1\n",
              "4           FDY38          NaN  ...               Tier 3  Supermarket Type3\n",
              "\n",
              "[5 rows x 11 columns]"
            ]
          },
          "metadata": {
            "tags": []
          },
          "execution_count": 40
        }
      ]
    },
    {
      "cell_type": "markdown",
      "metadata": {
        "id": "gmoXfJMwZyf1"
      },
      "source": [
        "Let's check if this data having any missing values or object/string dtype"
      ]
    },
    {
      "cell_type": "code",
      "metadata": {
        "colab": {
          "base_uri": "https://localhost:8080/"
        },
        "id": "wOO5XwyNZ7ML",
        "outputId": "8050c332-aeb3-4613-f8fe-b51c7f7df947"
      },
      "source": [
        "test_data.isnull().sum()"
      ],
      "execution_count": 41,
      "outputs": [
        {
          "output_type": "execute_result",
          "data": {
            "text/plain": [
              "Item_Identifier                 0\n",
              "Item_Weight                   976\n",
              "Item_Fat_Content                0\n",
              "Item_Visibility                 0\n",
              "Item_Type                       0\n",
              "Item_MRP                        0\n",
              "Outlet_Identifier               0\n",
              "Outlet_Establishment_Year       0\n",
              "Outlet_Size                  1606\n",
              "Outlet_Location_Type            0\n",
              "Outlet_Type                     0\n",
              "dtype: int64"
            ]
          },
          "metadata": {
            "tags": []
          },
          "execution_count": 41
        }
      ]
    },
    {
      "cell_type": "code",
      "metadata": {
        "colab": {
          "base_uri": "https://localhost:8080/"
        },
        "id": "Ys93CoTiaAOb",
        "outputId": "33c4cf04-409e-4a92-f51b-73872b7b81e5"
      },
      "source": [
        "test_data.info()"
      ],
      "execution_count": 42,
      "outputs": [
        {
          "output_type": "stream",
          "text": [
            "<class 'pandas.core.frame.DataFrame'>\n",
            "RangeIndex: 5681 entries, 0 to 5680\n",
            "Data columns (total 11 columns):\n",
            " #   Column                     Non-Null Count  Dtype  \n",
            "---  ------                     --------------  -----  \n",
            " 0   Item_Identifier            5681 non-null   object \n",
            " 1   Item_Weight                4705 non-null   float64\n",
            " 2   Item_Fat_Content           5681 non-null   object \n",
            " 3   Item_Visibility            5681 non-null   float64\n",
            " 4   Item_Type                  5681 non-null   object \n",
            " 5   Item_MRP                   5681 non-null   float64\n",
            " 6   Outlet_Identifier          5681 non-null   object \n",
            " 7   Outlet_Establishment_Year  5681 non-null   int64  \n",
            " 8   Outlet_Size                4075 non-null   object \n",
            " 9   Outlet_Location_Type       5681 non-null   object \n",
            " 10  Outlet_Type                5681 non-null   object \n",
            "dtypes: float64(3), int64(1), object(7)\n",
            "memory usage: 488.3+ KB\n"
          ],
          "name": "stdout"
        }
      ]
    },
    {
      "cell_type": "markdown",
      "metadata": {
        "id": "XpxkOPq_aEvF"
      },
      "source": [
        "Now then we will do same with test data what we done with training data, so for that let's create preprocess function"
      ]
    },
    {
      "cell_type": "code",
      "metadata": {
        "id": "e3eNth96aPJm"
      },
      "source": [
        "def preprocess(data):\n",
        "  #converting object dtype into categorical features\n",
        "\n",
        "  for label,content in data.items():\n",
        "    if pd.api.types.is_string_dtype(content):\n",
        "      data[label] = content.astype('category').cat.as_ordered()\n",
        "\n",
        "  #filling missing numeric values\n",
        "\n",
        "  for label,content in data.items():\n",
        "    if pd.api.types.is_numeric_dtype(content):\n",
        "      if pd.isnull(content).sum():\n",
        "        data[label] = content.fillna(content.median())\n",
        "\n",
        "  # now let's filling missing category values\n",
        "\n",
        "  for label,content in data.items():\n",
        "    if not pd.api.types.is_numeric_dtype(content):\n",
        "      data[label] = pd.Categorical(content).codes+1\n",
        "\n",
        "  "
      ],
      "execution_count": 43,
      "outputs": []
    },
    {
      "cell_type": "code",
      "metadata": {
        "id": "fY01nVViasU8"
      },
      "source": [
        "preprocess(test_data)\n"
      ],
      "execution_count": 44,
      "outputs": []
    },
    {
      "cell_type": "code",
      "metadata": {
        "colab": {
          "base_uri": "https://localhost:8080/"
        },
        "id": "b19FjQEFbKA0",
        "outputId": "38bd201f-57de-47b6-b562-c78576226590"
      },
      "source": [
        "test_data.isnull().sum()"
      ],
      "execution_count": 45,
      "outputs": [
        {
          "output_type": "execute_result",
          "data": {
            "text/plain": [
              "Item_Identifier              0\n",
              "Item_Weight                  0\n",
              "Item_Fat_Content             0\n",
              "Item_Visibility              0\n",
              "Item_Type                    0\n",
              "Item_MRP                     0\n",
              "Outlet_Identifier            0\n",
              "Outlet_Establishment_Year    0\n",
              "Outlet_Size                  0\n",
              "Outlet_Location_Type         0\n",
              "Outlet_Type                  0\n",
              "dtype: int64"
            ]
          },
          "metadata": {
            "tags": []
          },
          "execution_count": 45
        }
      ]
    },
    {
      "cell_type": "code",
      "metadata": {
        "colab": {
          "base_uri": "https://localhost:8080/"
        },
        "id": "zkD-eSBvbM0T",
        "outputId": "2a0ebfab-881d-4f56-ef7c-74ee67154389"
      },
      "source": [
        "test_data.dtypes"
      ],
      "execution_count": 46,
      "outputs": [
        {
          "output_type": "execute_result",
          "data": {
            "text/plain": [
              "Item_Identifier                int16\n",
              "Item_Weight                  float64\n",
              "Item_Fat_Content                int8\n",
              "Item_Visibility              float64\n",
              "Item_Type                       int8\n",
              "Item_MRP                     float64\n",
              "Outlet_Identifier               int8\n",
              "Outlet_Establishment_Year      int64\n",
              "Outlet_Size                     int8\n",
              "Outlet_Location_Type            int8\n",
              "Outlet_Type                     int8\n",
              "dtype: object"
            ]
          },
          "metadata": {
            "tags": []
          },
          "execution_count": 46
        }
      ]
    },
    {
      "cell_type": "markdown",
      "metadata": {
        "id": "vQd2JhGybdKd"
      },
      "source": [
        "So our test data is ready to fitted by model."
      ]
    },
    {
      "cell_type": "markdown",
      "metadata": {
        "id": "eP6gwIdYbkDN"
      },
      "source": [
        "### Predictions on Test Data"
      ]
    },
    {
      "cell_type": "code",
      "metadata": {
        "id": "0PjcFKPwbpEi"
      },
      "source": [
        "# let's instantiate our saved model\n",
        "model = ideal_model"
      ],
      "execution_count": 47,
      "outputs": []
    },
    {
      "cell_type": "code",
      "metadata": {
        "colab": {
          "base_uri": "https://localhost:8080/",
          "height": 0
        },
        "id": "SNAL9Fc1b-LR",
        "outputId": "08302134-a8b8-49a2-db82-161682b65bc9"
      },
      "source": [
        "test_data.head()"
      ],
      "execution_count": 48,
      "outputs": [
        {
          "output_type": "execute_result",
          "data": {
            "text/html": [
              "<div>\n",
              "<style scoped>\n",
              "    .dataframe tbody tr th:only-of-type {\n",
              "        vertical-align: middle;\n",
              "    }\n",
              "\n",
              "    .dataframe tbody tr th {\n",
              "        vertical-align: top;\n",
              "    }\n",
              "\n",
              "    .dataframe thead th {\n",
              "        text-align: right;\n",
              "    }\n",
              "</style>\n",
              "<table border=\"1\" class=\"dataframe\">\n",
              "  <thead>\n",
              "    <tr style=\"text-align: right;\">\n",
              "      <th></th>\n",
              "      <th>Item_Identifier</th>\n",
              "      <th>Item_Weight</th>\n",
              "      <th>Item_Fat_Content</th>\n",
              "      <th>Item_Visibility</th>\n",
              "      <th>Item_Type</th>\n",
              "      <th>Item_MRP</th>\n",
              "      <th>Outlet_Identifier</th>\n",
              "      <th>Outlet_Establishment_Year</th>\n",
              "      <th>Outlet_Size</th>\n",
              "      <th>Outlet_Location_Type</th>\n",
              "      <th>Outlet_Type</th>\n",
              "    </tr>\n",
              "  </thead>\n",
              "  <tbody>\n",
              "    <tr>\n",
              "      <th>0</th>\n",
              "      <td>1104</td>\n",
              "      <td>20.750</td>\n",
              "      <td>2</td>\n",
              "      <td>0.007565</td>\n",
              "      <td>14</td>\n",
              "      <td>107.8622</td>\n",
              "      <td>10</td>\n",
              "      <td>1999</td>\n",
              "      <td>2</td>\n",
              "      <td>1</td>\n",
              "      <td>2</td>\n",
              "    </tr>\n",
              "    <tr>\n",
              "      <th>1</th>\n",
              "      <td>1068</td>\n",
              "      <td>8.300</td>\n",
              "      <td>5</td>\n",
              "      <td>0.038428</td>\n",
              "      <td>5</td>\n",
              "      <td>87.3198</td>\n",
              "      <td>3</td>\n",
              "      <td>2007</td>\n",
              "      <td>0</td>\n",
              "      <td>2</td>\n",
              "      <td>2</td>\n",
              "    </tr>\n",
              "    <tr>\n",
              "      <th>2</th>\n",
              "      <td>1407</td>\n",
              "      <td>14.600</td>\n",
              "      <td>2</td>\n",
              "      <td>0.099575</td>\n",
              "      <td>12</td>\n",
              "      <td>241.7538</td>\n",
              "      <td>1</td>\n",
              "      <td>1998</td>\n",
              "      <td>0</td>\n",
              "      <td>3</td>\n",
              "      <td>1</td>\n",
              "    </tr>\n",
              "    <tr>\n",
              "      <th>3</th>\n",
              "      <td>810</td>\n",
              "      <td>7.315</td>\n",
              "      <td>2</td>\n",
              "      <td>0.015388</td>\n",
              "      <td>14</td>\n",
              "      <td>155.0340</td>\n",
              "      <td>3</td>\n",
              "      <td>2007</td>\n",
              "      <td>0</td>\n",
              "      <td>2</td>\n",
              "      <td>2</td>\n",
              "    </tr>\n",
              "    <tr>\n",
              "      <th>4</th>\n",
              "      <td>1185</td>\n",
              "      <td>12.500</td>\n",
              "      <td>3</td>\n",
              "      <td>0.118599</td>\n",
              "      <td>5</td>\n",
              "      <td>234.2300</td>\n",
              "      <td>6</td>\n",
              "      <td>1985</td>\n",
              "      <td>2</td>\n",
              "      <td>3</td>\n",
              "      <td>4</td>\n",
              "    </tr>\n",
              "  </tbody>\n",
              "</table>\n",
              "</div>"
            ],
            "text/plain": [
              "   Item_Identifier  Item_Weight  ...  Outlet_Location_Type  Outlet_Type\n",
              "0             1104       20.750  ...                     1            2\n",
              "1             1068        8.300  ...                     2            2\n",
              "2             1407       14.600  ...                     3            1\n",
              "3              810        7.315  ...                     2            2\n",
              "4             1185       12.500  ...                     3            4\n",
              "\n",
              "[5 rows x 11 columns]"
            ]
          },
          "metadata": {
            "tags": []
          },
          "execution_count": 48
        }
      ]
    },
    {
      "cell_type": "code",
      "metadata": {
        "id": "Jn258dqhcBpz"
      },
      "source": [
        "prediction_values  = model.predict(test_data)"
      ],
      "execution_count": 49,
      "outputs": []
    },
    {
      "cell_type": "code",
      "metadata": {
        "colab": {
          "base_uri": "https://localhost:8080/"
        },
        "id": "cExv2c61cPTr",
        "outputId": "090a3429-8d3c-4cad-df45-78c21cdf1f0f"
      },
      "source": [
        "prediction_values"
      ],
      "execution_count": 50,
      "outputs": [
        {
          "output_type": "execute_result",
          "data": {
            "text/plain": [
              "array([1747.61495942, 1386.84115782,  578.59675173, ..., 1941.3780218 ,\n",
              "       4427.01803538, 1404.58246689])"
            ]
          },
          "metadata": {
            "tags": []
          },
          "execution_count": 50
        }
      ]
    },
    {
      "cell_type": "markdown",
      "metadata": {
        "id": "r4IHsUQLcwoV"
      },
      "source": [
        "### Saving Predictions in .csv format"
      ]
    },
    {
      "cell_type": "code",
      "metadata": {
        "id": "T4abKSoDdgAP"
      },
      "source": [
        "#getting original test_data for submission\n",
        "test = pd.read_csv('/content/drive/MyDrive/walmart data/test_AbJTz2l.csv')"
      ],
      "execution_count": 51,
      "outputs": []
    },
    {
      "cell_type": "code",
      "metadata": {
        "id": "abKMi_g4c0Z6"
      },
      "source": [
        "prediction_data = pd.DataFrame()\n",
        "prediction_data['Item_Identifier'] = test['Item_Identifier']\n",
        "prediction_data['Outlet_Identifier'] = test['Outlet_Identifier']\n",
        "prediction_data['Item_Outlet_Sales'] = prediction_values"
      ],
      "execution_count": 52,
      "outputs": []
    },
    {
      "cell_type": "code",
      "metadata": {
        "colab": {
          "base_uri": "https://localhost:8080/",
          "height": 208
        },
        "id": "ja9D-TV7dGdW",
        "outputId": "996a2b76-6875-438d-9134-101f7a315385"
      },
      "source": [
        "prediction_data.head()"
      ],
      "execution_count": 53,
      "outputs": [
        {
          "output_type": "execute_result",
          "data": {
            "text/html": [
              "<div>\n",
              "<style scoped>\n",
              "    .dataframe tbody tr th:only-of-type {\n",
              "        vertical-align: middle;\n",
              "    }\n",
              "\n",
              "    .dataframe tbody tr th {\n",
              "        vertical-align: top;\n",
              "    }\n",
              "\n",
              "    .dataframe thead th {\n",
              "        text-align: right;\n",
              "    }\n",
              "</style>\n",
              "<table border=\"1\" class=\"dataframe\">\n",
              "  <thead>\n",
              "    <tr style=\"text-align: right;\">\n",
              "      <th></th>\n",
              "      <th>Item_Identifier</th>\n",
              "      <th>Outlet_Identifier</th>\n",
              "      <th>Item_Outlet_Sales</th>\n",
              "    </tr>\n",
              "  </thead>\n",
              "  <tbody>\n",
              "    <tr>\n",
              "      <th>0</th>\n",
              "      <td>FDW58</td>\n",
              "      <td>OUT049</td>\n",
              "      <td>1747.614959</td>\n",
              "    </tr>\n",
              "    <tr>\n",
              "      <th>1</th>\n",
              "      <td>FDW14</td>\n",
              "      <td>OUT017</td>\n",
              "      <td>1386.841158</td>\n",
              "    </tr>\n",
              "    <tr>\n",
              "      <th>2</th>\n",
              "      <td>NCN55</td>\n",
              "      <td>OUT010</td>\n",
              "      <td>578.596752</td>\n",
              "    </tr>\n",
              "    <tr>\n",
              "      <th>3</th>\n",
              "      <td>FDQ58</td>\n",
              "      <td>OUT017</td>\n",
              "      <td>2213.315875</td>\n",
              "    </tr>\n",
              "    <tr>\n",
              "      <th>4</th>\n",
              "      <td>FDY38</td>\n",
              "      <td>OUT027</td>\n",
              "      <td>5193.754701</td>\n",
              "    </tr>\n",
              "  </tbody>\n",
              "</table>\n",
              "</div>"
            ],
            "text/plain": [
              "  Item_Identifier Outlet_Identifier  Item_Outlet_Sales\n",
              "0           FDW58            OUT049        1747.614959\n",
              "1           FDW14            OUT017        1386.841158\n",
              "2           NCN55            OUT010         578.596752\n",
              "3           FDQ58            OUT017        2213.315875\n",
              "4           FDY38            OUT027        5193.754701"
            ]
          },
          "metadata": {
            "tags": []
          },
          "execution_count": 53
        }
      ]
    },
    {
      "cell_type": "code",
      "metadata": {
        "colab": {
          "base_uri": "https://localhost:8080/",
          "height": 16
        },
        "id": "fvF-fslqfNdj",
        "outputId": "e1ab56e0-92b6-46f8-8836-50cf9ff42b27"
      },
      "source": [
        "from google.colab import files\n",
        "prediction_data.to_csv('big-mart-sales-predictions.csv',index=False) \n",
        "files.download('big-mart-sales-predictions.csv')"
      ],
      "execution_count": 54,
      "outputs": [
        {
          "output_type": "display_data",
          "data": {
            "application/javascript": [
              "\n",
              "    async function download(id, filename, size) {\n",
              "      if (!google.colab.kernel.accessAllowed) {\n",
              "        return;\n",
              "      }\n",
              "      const div = document.createElement('div');\n",
              "      const label = document.createElement('label');\n",
              "      label.textContent = `Downloading \"${filename}\": `;\n",
              "      div.appendChild(label);\n",
              "      const progress = document.createElement('progress');\n",
              "      progress.max = size;\n",
              "      div.appendChild(progress);\n",
              "      document.body.appendChild(div);\n",
              "\n",
              "      const buffers = [];\n",
              "      let downloaded = 0;\n",
              "\n",
              "      const channel = await google.colab.kernel.comms.open(id);\n",
              "      // Send a message to notify the kernel that we're ready.\n",
              "      channel.send({})\n",
              "\n",
              "      for await (const message of channel.messages) {\n",
              "        // Send a message to notify the kernel that we're ready.\n",
              "        channel.send({})\n",
              "        if (message.buffers) {\n",
              "          for (const buffer of message.buffers) {\n",
              "            buffers.push(buffer);\n",
              "            downloaded += buffer.byteLength;\n",
              "            progress.value = downloaded;\n",
              "          }\n",
              "        }\n",
              "      }\n",
              "      const blob = new Blob(buffers, {type: 'application/binary'});\n",
              "      const a = document.createElement('a');\n",
              "      a.href = window.URL.createObjectURL(blob);\n",
              "      a.download = filename;\n",
              "      div.appendChild(a);\n",
              "      a.click();\n",
              "      div.remove();\n",
              "    }\n",
              "  "
            ],
            "text/plain": [
              "<IPython.core.display.Javascript object>"
            ]
          },
          "metadata": {
            "tags": []
          }
        },
        {
          "output_type": "display_data",
          "data": {
            "application/javascript": [
              "download(\"download_c0434707-786b-4e54-be5b-62546e112fe0\", \"big-mart-sales-predictions.csv\", 178673)"
            ],
            "text/plain": [
              "<IPython.core.display.Javascript object>"
            ]
          },
          "metadata": {
            "tags": []
          }
        }
      ]
    },
    {
      "cell_type": "markdown",
      "metadata": {
        "id": "gTtMFSZoigtU"
      },
      "source": [
        "### Feature Importance"
      ]
    },
    {
      "cell_type": "code",
      "metadata": {
        "colab": {
          "base_uri": "https://localhost:8080/"
        },
        "id": "55G8FIQ_XrtX",
        "outputId": "c2710e52-0765-4ea7-8b40-7646f154c7d8"
      },
      "source": [
        "model.feature_importances_"
      ],
      "execution_count": 66,
      "outputs": [
        {
          "output_type": "execute_result",
          "data": {
            "text/plain": [
              "array([0.04953408, 0.04262188, 0.00891561, 0.05859894, 0.02615645,\n",
              "       0.48367046, 0.0708505 , 0.0553467 , 0.01642475, 0.02742053,\n",
              "       0.16046011])"
            ]
          },
          "metadata": {
            "tags": []
          },
          "execution_count": 66
        }
      ]
    },
    {
      "cell_type": "code",
      "metadata": {
        "id": "SCBS8vQUYOwi"
      },
      "source": [
        "def plot_features(columns, importances, n=20):\n",
        "    df = (pd.DataFrame({\"features\": columns,\n",
        "                        \"feature_importances\": importances})\n",
        "          .sort_values(\"feature_importances\", ascending=False)\n",
        "          .reset_index(drop=True))\n",
        "    \n",
        "    # Plot the dataframe\n",
        "    fig, ax = plt.subplots()\n",
        "    ax.barh(df[\"features\"][:n], df[\"feature_importances\"][:20])\n",
        "    ax.set_ylabel(\"Features\")\n",
        "    ax.set_xlabel(\"Feature importance\")\n",
        "    ax.invert_yaxis()"
      ],
      "execution_count": 68,
      "outputs": []
    },
    {
      "cell_type": "code",
      "metadata": {
        "colab": {
          "base_uri": "https://localhost:8080/",
          "height": 278
        },
        "id": "lhjvHGoEZ0nB",
        "outputId": "7e4586a5-d973-4eb7-a4b5-2d1415ae31c6"
      },
      "source": [
        "plot_features(X_train.columns, ideal_model.feature_importances_)"
      ],
      "execution_count": 69,
      "outputs": [
        {
          "output_type": "display_data",
          "data": {
            "image/png": "[encoded data removed]",
            "text/plain": [
              "<Figure size 432x288 with 1 Axes>"
            ]
          },
          "metadata": {
            "tags": [],
            "needs_background": "light"
          }
        }
      ]
    },
    {
      "cell_type": "markdown",
      "metadata": {
        "id": "GGC5TVFtbAMc"
      },
      "source": [
        "### END\n"
      ]
    }
  ]
}