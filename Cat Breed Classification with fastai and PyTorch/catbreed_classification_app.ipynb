{
 "cells": [
  {
   "cell_type": "code",
   "execution_count": 16,
   "metadata": {},
   "outputs": [],
   "source": [
    "import pathlib\n",
    "temp = pathlib.PosixPath\n",
    "pathlib.PosixPath = pathlib.WindowsPath"
   ]
  },
  {
   "cell_type": "code",
   "execution_count": 17,
   "metadata": {
    "id": "F5CdMOdElqLS"
   },
   "outputs": [],
   "source": [
    "from fastbook import *\n",
    "from fastai.vision.widgets import *"
   ]
  },
  {
   "cell_type": "markdown",
   "metadata": {
    "id": "76udz9rAltR5"
   },
   "source": [
    "# Cat Breed Classifier 🐈\n",
    "\n"
   ]
  },
  {
   "cell_type": "markdown",
   "metadata": {
    "id": "g_1Hu77NltZJ"
   },
   "source": [
    "### With the help of deep learning and resnet50 architecture we have created this Cat breed classification model where we can easily classify various breed of cats like,\n",
    " - Asian \n",
    " - Australian Mist\n",
    " - Bengal\n",
    " - British Longhair\n",
    " - Cyprus\n",
    " - Bombay \n",
    " - Japanese Bobtail \n",
    " - Russian Blue\n",
    " - Selkirk Rex\n",
    " - Turkish Vankedisi"
   ]
  },
  {
   "cell_type": "markdown",
   "metadata": {
    "id": "lrnL8dh8ltaB"
   },
   "source": [
    "### Just upload your cat image and see the magic of our cat breed classifier 🐱\n",
    "(make sure your cat breed is listed up there ☝️) "
   ]
  },
  {
   "cell_type": "code",
   "execution_count": 18,
   "metadata": {
    "id": "m8chTfqmntvC"
   },
   "outputs": [],
   "source": [
    "learn_inf = load_learner('resnet50.pkl')"
   ]
  },
  {
   "cell_type": "code",
   "execution_count": 19,
   "metadata": {
    "id": "5lqeSgTemXy5"
   },
   "outputs": [],
   "source": [
    "btn_upload = widgets.FileUpload()\n",
    "btn_run = widgets.Button(description='Classify')\n",
    "out_pl = widgets.Output()\n",
    "lbl_pred = widgets.Label()\n",
    "def on_click_classify(change):\n",
    "    img = PILImage.create(btn_upload.data[-1])\n",
    "    out_pl.clear_output()\n",
    "    with out_pl: display(img.to_thumb(256,256))\n",
    "    pred,pred_idx,probs = learn_inf.predict(img)\n",
    "    lbl_pred.value = f'Prediction: {pred}; Probability: {probs[pred_idx]:.04f}'\n",
    "\n",
    "btn_run.on_click(on_click_classify)"
   ]
  },
  {
   "cell_type": "code",
   "execution_count": 20,
   "metadata": {
    "colab": {
     "base_uri": "https://localhost:8080/",
     "height": 296,
     "referenced_widgets": [
      "9654743ee2684e538b109707c7d1b477",
      "fa7715f170834dffaa6f4554aed848d3",
      "c4aa680ac00d487daef8db4c00ea65ae",
      "0c296ba2256c4313b186589e59668dd3",
      "29aa5415c52f4ed89bcb47f0c9a988bd",
      "80e67dd5c5454a3aa3db29ff0bf4118b",
      "de4afd5f405643b3ad64ae234e67df3a",
      "1e45ca80273a4e4c8a898e2d9948fc89",
      "a569db05c0914e39b66702c0e49a1a5d",
      "7c11701a66ed46dbba1eb4a2f98663d2",
      "e98873240b3a44978ce27e5995b3a14c",
      "4f9fccb4e0df43c689cf6f029c8da053",
      "33c0545dcfe24190923872ef3b8387cc",
      "ceddb0bc08cf43f89c484042f39642b7",
      "4e418220e81f41129283114ad1ce95ca",
      "5fe15383664e4cba865812561aa1fce6"
     ]
    },
    "id": "Le5BSSh9mwaR",
    "outputId": "3d6ca02f-f775-4b3a-f14f-9fb7dc2a8141"
   },
   "outputs": [
    {
     "data": {
      "application/vnd.jupyter.widget-view+json": {
       "model_id": "162ed607bf74437e899f46cf9a8462d8",
       "version_major": 2,
       "version_minor": 0
      },
      "text/plain": [
       "VBox(children=(Label(value='Select your cat!'), FileUpload(value={}, description='Upload'), Button(description…"
      ]
     },
     "metadata": {},
     "output_type": "display_data"
    }
   ],
   "source": [
    "VBox([widgets.Label('Select your cat!'), \n",
    "      btn_upload, btn_run, out_pl, lbl_pred])"
   ]
  }
 ],
 "metadata": {
  "colab": {
   "name": "catbreed-classification-app.ipynb",
   "provenance": []
  },
  "kernelspec": {
   "display_name": "Python 3",
   "language": "python",
   "name": "python3"
  },
  "language_info": {
   "codemirror_mode": {
    "name": "ipython",
    "version": 3
   },
   "file_extension": ".py",
   "mimetype": "text/x-python",
   "name": "python",
   "nbconvert_exporter": "python",
   "pygments_lexer": "ipython3",
   "version": "3.8.5"
  },
  "widgets": {
   "application/vnd.jupyter.widget-state+json": {
    "0c296ba2256c4313b186589e59668dd3": {
     "model_module": "@jupyter-widgets/controls",
     "model_module_version": "1.5.0",
     "model_name": "FileUploadModel",
     "state": {
      "_counter": 1,
      "_dom_classes": [],
      "_model_module": "@jupyter-widgets/controls",
      "_model_module_version": "1.5.0",
      "_model_name": "FileUploadModel",
      "_view_count": null,
      "_view_module": "@jupyter-widgets/controls",
      "_view_module_version": "1.5.0",
      "_view_name": "FileUploadView",
      "accept": "",
      "button_style": "",
      "data": [
       null
      ],
      "description": "Upload",
      "description_tooltip": null,
      "disabled": false,
      "error": "",
      "icon": "upload",
      "layout": "IPY_MODEL_e98873240b3a44978ce27e5995b3a14c",
      "metadata": [
       {
        "lastModified": 1630405286526,
        "name": "download (1).jfif",
        "size": 38667,
        "type": "image/jpeg"
       }
      ],
      "multiple": false,
      "style": "IPY_MODEL_7c11701a66ed46dbba1eb4a2f98663d2"
     }
    },
    "1e45ca80273a4e4c8a898e2d9948fc89": {
     "model_module": "@jupyter-widgets/controls",
     "model_module_version": "1.5.0",
     "model_name": "DescriptionStyleModel",
     "state": {
      "_model_module": "@jupyter-widgets/controls",
      "_model_module_version": "1.5.0",
      "_model_name": "DescriptionStyleModel",
      "_view_count": null,
      "_view_module": "@jupyter-widgets/base",
      "_view_module_version": "1.2.0",
      "_view_name": "StyleView",
      "description_width": ""
     }
    },
    "29aa5415c52f4ed89bcb47f0c9a988bd": {
     "model_module": "@jupyter-widgets/controls",
     "model_module_version": "1.5.0",
     "model_name": "ButtonModel",
     "state": {
      "_dom_classes": [],
      "_model_module": "@jupyter-widgets/controls",
      "_model_module_version": "1.5.0",
      "_model_name": "ButtonModel",
      "_view_count": null,
      "_view_module": "@jupyter-widgets/controls",
      "_view_module_version": "1.5.0",
      "_view_name": "ButtonView",
      "button_style": "",
      "description": "Classify",
      "disabled": false,
      "icon": "",
      "layout": "IPY_MODEL_33c0545dcfe24190923872ef3b8387cc",
      "style": "IPY_MODEL_4f9fccb4e0df43c689cf6f029c8da053",
      "tooltip": ""
     }
    },
    "33c0545dcfe24190923872ef3b8387cc": {
     "model_module": "@jupyter-widgets/base",
     "model_module_version": "1.2.0",
     "model_name": "LayoutModel",
     "state": {
      "_model_module": "@jupyter-widgets/base",
      "_model_module_version": "1.2.0",
      "_model_name": "LayoutModel",
      "_view_count": null,
      "_view_module": "@jupyter-widgets/base",
      "_view_module_version": "1.2.0",
      "_view_name": "LayoutView",
      "align_content": null,
      "align_items": null,
      "align_self": null,
      "border": null,
      "bottom": null,
      "display": null,
      "flex": null,
      "flex_flow": null,
      "grid_area": null,
      "grid_auto_columns": null,
      "grid_auto_flow": null,
      "grid_auto_rows": null,
      "grid_column": null,
      "grid_gap": null,
      "grid_row": null,
      "grid_template_areas": null,
      "grid_template_columns": null,
      "grid_template_rows": null,
      "height": null,
      "justify_content": null,
      "justify_items": null,
      "left": null,
      "margin": null,
      "max_height": null,
      "max_width": null,
      "min_height": null,
      "min_width": null,
      "object_fit": null,
      "object_position": null,
      "order": null,
      "overflow": null,
      "overflow_x": null,
      "overflow_y": null,
      "padding": null,
      "right": null,
      "top": null,
      "visibility": null,
      "width": null
     }
    },
    "4e418220e81f41129283114ad1ce95ca": {
     "model_module": "@jupyter-widgets/base",
     "model_module_version": "1.2.0",
     "model_name": "LayoutModel",
     "state": {
      "_model_module": "@jupyter-widgets/base",
      "_model_module_version": "1.2.0",
      "_model_name": "LayoutModel",
      "_view_count": null,
      "_view_module": "@jupyter-widgets/base",
      "_view_module_version": "1.2.0",
      "_view_name": "LayoutView",
      "align_content": null,
      "align_items": null,
      "align_self": null,
      "border": null,
      "bottom": null,
      "display": null,
      "flex": null,
      "flex_flow": null,
      "grid_area": null,
      "grid_auto_columns": null,
      "grid_auto_flow": null,
      "grid_auto_rows": null,
      "grid_column": null,
      "grid_gap": null,
      "grid_row": null,
      "grid_template_areas": null,
      "grid_template_columns": null,
      "grid_template_rows": null,
      "height": null,
      "justify_content": null,
      "justify_items": null,
      "left": null,
      "margin": null,
      "max_height": null,
      "max_width": null,
      "min_height": null,
      "min_width": null,
      "object_fit": null,
      "object_position": null,
      "order": null,
      "overflow": null,
      "overflow_x": null,
      "overflow_y": null,
      "padding": null,
      "right": null,
      "top": null,
      "visibility": null,
      "width": null
     }
    },
    "4f9fccb4e0df43c689cf6f029c8da053": {
     "model_module": "@jupyter-widgets/controls",
     "model_module_version": "1.5.0",
     "model_name": "ButtonStyleModel",
     "state": {
      "_model_module": "@jupyter-widgets/controls",
      "_model_module_version": "1.5.0",
      "_model_name": "ButtonStyleModel",
      "_view_count": null,
      "_view_module": "@jupyter-widgets/base",
      "_view_module_version": "1.2.0",
      "_view_name": "StyleView",
      "button_color": null,
      "font_weight": ""
     }
    },
    "5fe15383664e4cba865812561aa1fce6": {
     "model_module": "@jupyter-widgets/base",
     "model_module_version": "1.2.0",
     "model_name": "LayoutModel",
     "state": {
      "_model_module": "@jupyter-widgets/base",
      "_model_module_version": "1.2.0",
      "_model_name": "LayoutModel",
      "_view_count": null,
      "_view_module": "@jupyter-widgets/base",
      "_view_module_version": "1.2.0",
      "_view_name": "LayoutView",
      "align_content": null,
      "align_items": null,
      "align_self": null,
      "border": null,
      "bottom": null,
      "display": null,
      "flex": null,
      "flex_flow": null,
      "grid_area": null,
      "grid_auto_columns": null,
      "grid_auto_flow": null,
      "grid_auto_rows": null,
      "grid_column": null,
      "grid_gap": null,
      "grid_row": null,
      "grid_template_areas": null,
      "grid_template_columns": null,
      "grid_template_rows": null,
      "height": null,
      "justify_content": null,
      "justify_items": null,
      "left": null,
      "margin": null,
      "max_height": null,
      "max_width": null,
      "min_height": null,
      "min_width": null,
      "object_fit": null,
      "object_position": null,
      "order": null,
      "overflow": null,
      "overflow_x": null,
      "overflow_y": null,
      "padding": null,
      "right": null,
      "top": null,
      "visibility": null,
      "width": null
     }
    },
    "7c11701a66ed46dbba1eb4a2f98663d2": {
     "model_module": "@jupyter-widgets/controls",
     "model_module_version": "1.5.0",
     "model_name": "ButtonStyleModel",
     "state": {
      "_model_module": "@jupyter-widgets/controls",
      "_model_module_version": "1.5.0",
      "_model_name": "ButtonStyleModel",
      "_view_count": null,
      "_view_module": "@jupyter-widgets/base",
      "_view_module_version": "1.2.0",
      "_view_name": "StyleView",
      "button_color": null,
      "font_weight": ""
     }
    },
    "80e67dd5c5454a3aa3db29ff0bf4118b": {
     "model_module": "@jupyter-widgets/output",
     "model_module_version": "1.0.0",
     "model_name": "OutputModel",
     "state": {
      "_dom_classes": [],
      "_model_module": "@jupyter-widgets/output",
      "_model_module_version": "1.0.0",
      "_model_name": "OutputModel",
      "_view_count": null,
      "_view_module": "@jupyter-widgets/output",
      "_view_module_version": "1.0.0",
      "_view_name": "OutputView",
      "layout": "IPY_MODEL_5fe15383664e4cba865812561aa1fce6",
      "msg_id": "",
      "outputs": [
       {
        "data": {
         "image/png": "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\n",
         "text/plain": "<PIL.Image.Image image mode=RGB size=256x151 at 0x7FB5EAAF3AD0>"
        },
        "metadata": {},
        "output_type": "display_data"
       }
      ]
     }
    },
    "9654743ee2684e538b109707c7d1b477": {
     "model_module": "@jupyter-widgets/controls",
     "model_module_version": "1.5.0",
     "model_name": "VBoxModel",
     "state": {
      "_dom_classes": [],
      "_model_module": "@jupyter-widgets/controls",
      "_model_module_version": "1.5.0",
      "_model_name": "VBoxModel",
      "_view_count": null,
      "_view_module": "@jupyter-widgets/controls",
      "_view_module_version": "1.5.0",
      "_view_name": "VBoxView",
      "box_style": "",
      "children": [
       "IPY_MODEL_c4aa680ac00d487daef8db4c00ea65ae",
       "IPY_MODEL_0c296ba2256c4313b186589e59668dd3",
       "IPY_MODEL_29aa5415c52f4ed89bcb47f0c9a988bd",
       "IPY_MODEL_80e67dd5c5454a3aa3db29ff0bf4118b",
       "IPY_MODEL_de4afd5f405643b3ad64ae234e67df3a"
      ],
      "layout": "IPY_MODEL_fa7715f170834dffaa6f4554aed848d3"
     }
    },
    "a569db05c0914e39b66702c0e49a1a5d": {
     "model_module": "@jupyter-widgets/base",
     "model_module_version": "1.2.0",
     "model_name": "LayoutModel",
     "state": {
      "_model_module": "@jupyter-widgets/base",
      "_model_module_version": "1.2.0",
      "_model_name": "LayoutModel",
      "_view_count": null,
      "_view_module": "@jupyter-widgets/base",
      "_view_module_version": "1.2.0",
      "_view_name": "LayoutView",
      "align_content": null,
      "align_items": null,
      "align_self": null,
      "border": null,
      "bottom": null,
      "display": null,
      "flex": null,
      "flex_flow": null,
      "grid_area": null,
      "grid_auto_columns": null,
      "grid_auto_flow": null,
      "grid_auto_rows": null,
      "grid_column": null,
      "grid_gap": null,
      "grid_row": null,
      "grid_template_areas": null,
      "grid_template_columns": null,
      "grid_template_rows": null,
      "height": null,
      "justify_content": null,
      "justify_items": null,
      "left": null,
      "margin": null,
      "max_height": null,
      "max_width": null,
      "min_height": null,
      "min_width": null,
      "object_fit": null,
      "object_position": null,
      "order": null,
      "overflow": null,
      "overflow_x": null,
      "overflow_y": null,
      "padding": null,
      "right": null,
      "top": null,
      "visibility": null,
      "width": null
     }
    },
    "c4aa680ac00d487daef8db4c00ea65ae": {
     "model_module": "@jupyter-widgets/controls",
     "model_module_version": "1.5.0",
     "model_name": "LabelModel",
     "state": {
      "_dom_classes": [],
      "_model_module": "@jupyter-widgets/controls",
      "_model_module_version": "1.5.0",
      "_model_name": "LabelModel",
      "_view_count": null,
      "_view_module": "@jupyter-widgets/controls",
      "_view_module_version": "1.5.0",
      "_view_name": "LabelView",
      "description": "",
      "description_tooltip": null,
      "layout": "IPY_MODEL_a569db05c0914e39b66702c0e49a1a5d",
      "placeholder": "​",
      "style": "IPY_MODEL_1e45ca80273a4e4c8a898e2d9948fc89",
      "value": "Select your cat!"
     }
    },
    "ceddb0bc08cf43f89c484042f39642b7": {
     "model_module": "@jupyter-widgets/controls",
     "model_module_version": "1.5.0",
     "model_name": "DescriptionStyleModel",
     "state": {
      "_model_module": "@jupyter-widgets/controls",
      "_model_module_version": "1.5.0",
      "_model_name": "DescriptionStyleModel",
      "_view_count": null,
      "_view_module": "@jupyter-widgets/base",
      "_view_module_version": "1.2.0",
      "_view_name": "StyleView",
      "description_width": ""
     }
    },
    "de4afd5f405643b3ad64ae234e67df3a": {
     "model_module": "@jupyter-widgets/controls",
     "model_module_version": "1.5.0",
     "model_name": "LabelModel",
     "state": {
      "_dom_classes": [],
      "_model_module": "@jupyter-widgets/controls",
      "_model_module_version": "1.5.0",
      "_model_name": "LabelModel",
      "_view_count": null,
      "_view_module": "@jupyter-widgets/controls",
      "_view_module_version": "1.5.0",
      "_view_name": "LabelView",
      "description": "",
      "description_tooltip": null,
      "layout": "IPY_MODEL_4e418220e81f41129283114ad1ce95ca",
      "placeholder": "​",
      "style": "IPY_MODEL_ceddb0bc08cf43f89c484042f39642b7",
      "value": "Prediction: Bengal; Probability: 0.9997"
     }
    },
    "e98873240b3a44978ce27e5995b3a14c": {
     "model_module": "@jupyter-widgets/base",
     "model_module_version": "1.2.0",
     "model_name": "LayoutModel",
     "state": {
      "_model_module": "@jupyter-widgets/base",
      "_model_module_version": "1.2.0",
      "_model_name": "LayoutModel",
      "_view_count": null,
      "_view_module": "@jupyter-widgets/base",
      "_view_module_version": "1.2.0",
      "_view_name": "LayoutView",
      "align_content": null,
      "align_items": null,
      "align_self": null,
      "border": null,
      "bottom": null,
      "display": null,
      "flex": null,
      "flex_flow": null,
      "grid_area": null,
      "grid_auto_columns": null,
      "grid_auto_flow": null,
      "grid_auto_rows": null,
      "grid_column": null,
      "grid_gap": null,
      "grid_row": null,
      "grid_template_areas": null,
      "grid_template_columns": null,
      "grid_template_rows": null,
      "height": null,
      "justify_content": null,
      "justify_items": null,
      "left": null,
      "margin": null,
      "max_height": null,
      "max_width": null,
      "min_height": null,
      "min_width": null,
      "object_fit": null,
      "object_position": null,
      "order": null,
      "overflow": null,
      "overflow_x": null,
      "overflow_y": null,
      "padding": null,
      "right": null,
      "top": null,
      "visibility": null,
      "width": null
     }
    },
    "fa7715f170834dffaa6f4554aed848d3": {
     "model_module": "@jupyter-widgets/base",
     "model_module_version": "1.2.0",
     "model_name": "LayoutModel",
     "state": {
      "_model_module": "@jupyter-widgets/base",
      "_model_module_version": "1.2.0",
      "_model_name": "LayoutModel",
      "_view_count": null,
      "_view_module": "@jupyter-widgets/base",
      "_view_module_version": "1.2.0",
      "_view_name": "LayoutView",
      "align_content": null,
      "align_items": null,
      "align_self": null,
      "border": null,
      "bottom": null,
      "display": null,
      "flex": null,
      "flex_flow": null,
      "grid_area": null,
      "grid_auto_columns": null,
      "grid_auto_flow": null,
      "grid_auto_rows": null,
      "grid_column": null,
      "grid_gap": null,
      "grid_row": null,
      "grid_template_areas": null,
      "grid_template_columns": null,
      "grid_template_rows": null,
      "height": null,
      "justify_content": null,
      "justify_items": null,
      "left": null,
      "margin": null,
      "max_height": null,
      "max_width": null,
      "min_height": null,
      "min_width": null,
      "object_fit": null,
      "object_position": null,
      "order": null,
      "overflow": null,
      "overflow_x": null,
      "overflow_y": null,
      "padding": null,
      "right": null,
      "top": null,
      "visibility": null,
      "width": null
     }
    }
   }
  }
 },
 "nbformat": 4,
 "nbformat_minor": 1
}
